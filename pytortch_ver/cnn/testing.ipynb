{
 "cells": [
  {
   "cell_type": "code",
   "execution_count": 40,
   "metadata": {},
   "outputs": [
    {
     "name": "stdout",
     "output_type": "stream",
     "text": [
      "The autoreload extension is already loaded. To reload it, use:\n",
      "  %reload_ext autoreload\n",
      "\n",
      "Loading jets from files. Currently on seed: 1..."
     ]
    }
   ],
   "source": [
    "%load_ext autoreload\n",
    "%autoreload 2\n",
    "\n",
    "import numpy as np\n",
    "import sys\n",
    "\n",
    "higher_dir = '../'\n",
    "sys.path.append(higher_dir)\n",
    "\n",
    "from JetsFromFile import JetsFromFile\n",
    "from JetImages import JetImage\n",
    "\n",
    "kappa = 0.2\n",
    "# is_up      : np.ndarray = np.empty(0, dtype=np.int32)\n",
    "jet_images : np.ndarray = np.empty((0, 2, JetImage.image_width_pixels, JetImage.image_width_pixels), dtype=np.float32)\n",
    "\n",
    "energy_gev = 100\n",
    "print(\"\\nLoading jets from files. Currently on seed: \", end='')\n",
    "for seed in range(1,2):\n",
    "    if (seed-1) % 5 == 0:\n",
    "        print(\"{}...\".format(seed), end='')\n",
    "\n",
    "    for origin in ['up', 'down']:\n",
    "\n",
    "        datadir = \"S:/home/documents/research/jet_tagging/jet_charge_reimplementation/data/up_down/\"\n",
    "\n",
    "        jets_to_load = JetsFromFile(energy_gev, origin, seed, datadir)\n",
    "\n",
    "        new_images   = np.stack([JetImage.two_channel_image_from_jet(jet, kappa) for jet in jets_to_load.from_txt()])\n",
    "                        \n",
    "        jet_images = np.concatenate((jet_images, new_images), axis=0)\n",
    "\n",
    "\n",
    "jet_images = JetImage.preprocess_a_channel(jet_images, 0)\n"
   ]
  },
  {
   "cell_type": "code",
   "execution_count": 44,
   "metadata": {},
   "outputs": [
    {
     "data": {
      "image/png": "[encoded data removed]",
      "text/plain": [
       "<Figure size 640x480 with 2 Axes>"
      ]
     },
     "metadata": {},
     "output_type": "display_data"
    }
   ],
   "source": [
    "# m = normalized\n",
    "# m = zero_centered\n",
    "m = jet_images\n",
    "# range = np.max(m) - np.min(m)\n",
    "# m  -= np.min(m)\n",
    "# m /= range\n",
    "\n",
    "# to_plot = np.mean(m, axis=0)[0,:,:]\n",
    "to_plot = m[2,0,:,:]\n",
    "\n",
    "import matplotlib.pyplot as plt \n",
    "# import matplotlib.pyplot as plt\n",
    "import matplotlib.ticker as ticker\n",
    "\n",
    "# plt.imshow(to_plot, cmap='seismic')\n",
    "# plt.colorbar(100)\n",
    "\n",
    "# Create a figure and axis\n",
    "fig, ax = plt.subplots()\n",
    "\n",
    "# Create a colorbar with more subdivisions\n",
    "cax = ax.imshow(to_plot, cmap='seismic')\n",
    "cbar = fig.colorbar(cax, ax=ax)\n",
    "\n",
    "# Set the number of ticks on the colorbar\n",
    "cbar.locator = ticker.MaxNLocator(nbins=20)  # Set the number of subdivisions\n",
    "cbar.update_ticks()\n",
    "\n",
    "# Show the plot\n",
    "plt.show()"
   ]
  },
  {
   "cell_type": "code",
   "execution_count": null,
   "metadata": {},
   "outputs": [
    {
     "name": "stdout",
     "output_type": "stream",
     "text": [
      "The autoreload extension is already loaded. To reload it, use:\n",
      "  %reload_ext autoreload\n"
     ]
    },
    {
     "ename": "NameError",
     "evalue": "name 'is_up' is not defined",
     "output_type": "error",
     "traceback": [
      "\u001b[1;31m---------------------------------------------------------------------------\u001b[0m",
      "\u001b[1;31mNameError\u001b[0m                                 Traceback (most recent call last)",
      "Cell \u001b[1;32mIn[17], line 10\u001b[0m\n\u001b[0;32m      6\u001b[0m \u001b[38;5;28;01mfrom\u001b[39;00m \u001b[38;5;21;01mtorchvision\u001b[39;00m \u001b[38;5;28;01mimport\u001b[39;00m tv_tensors \n\u001b[0;32m      8\u001b[0m model \u001b[38;5;241m=\u001b[39m CNN(\u001b[38;5;241m1\u001b[39m)\n\u001b[1;32m---> 10\u001b[0m total_num_images \u001b[38;5;241m=\u001b[39m \u001b[38;5;28mlen\u001b[39m(\u001b[43mis_up\u001b[49m)\n\u001b[0;32m     11\u001b[0m percent_train    \u001b[38;5;241m=\u001b[39m \u001b[38;5;241m0.8\u001b[39m\n\u001b[0;32m     12\u001b[0m last_training_idx \u001b[38;5;241m=\u001b[39m \u001b[38;5;28mint\u001b[39m(total_num_images \u001b[38;5;241m*\u001b[39m percent_train)\n",
      "\u001b[1;31mNameError\u001b[0m: name 'is_up' is not defined"
     ]
    }
   ],
   "source": [
    "%load_ext autoreload\n",
    "%autoreload 2\n",
    "\n",
    "from Model import CNN\n",
    "import torch\n",
    "from torchvision import tv_tensors \n",
    "\n",
    "model = CNN(1)\n",
    "\n",
    "total_num_images = len(is_up)\n",
    "percent_train    = 0.8\n",
    "last_training_idx = int(total_num_images * percent_train)\n",
    "\n",
    "## Todo: Augment the data images by:\n",
    "    ## 1. Flipping the image along the vertical axis\n",
    "    ## 2. Flipping the image along the horizontal axis\n",
    "    ## 3. Translating image by one pixel in each direction\n",
    "\n",
    "# training_images = tv_tensors.Image(standardized[:last_training_idx]).float()\n",
    "# training_labels = torch.tensor(is_up[:last_training_idx]).long()\n",
    "\n",
    "# validation_images = tv_tensors.Image(standardized[last_training_idx:]).float()\n",
    "# validation_labels = torch.tensor(is_up[last_training_idx:]).long()\n",
    "\n",
    "# print(model(training))"
   ]
  },
  {
   "cell_type": "code",
   "execution_count": null,
   "metadata": {},
   "outputs": [],
   "source": [
    "batch_size = 512\n",
    "\n",
    "training_loader = torch.utils.data.DataLoader(\n",
    "    torch.utils.data.TensorDataset(training_images, training_labels),\n",
    "    batch_size=batch_size, shuffle=True)\n",
    "\n",
    "validation_loader = torch.utils.data.DataLoader(\n",
    "    torch.utils.data.TensorDataset(validation_images, validation_labels),\n",
    "    batch_size=batch_size, shuffle=True)\n",
    "\n",
    "loss_fn = torch.nn.CrossEntropyLoss()\n",
    "optimizer = torch.optim.Adam(model.parameters(), lr=1e-3)\n"
   ]
  },
  {
   "cell_type": "code",
   "execution_count": null,
   "metadata": {},
   "outputs": [],
   "source": [
    "def train_one_epoch(epoch_index, tb_writer):\n",
    "    running_loss = 0.\n",
    "    last_loss = 0.\n",
    "\n",
    "    # Here, we use enumerate(training_loader) instead of\n",
    "    # iter(training_loader) so that we can track the batch\n",
    "    # index and do some intra-epoch reporting\n",
    "    for i, data in enumerate(training_loader):\n",
    "        # Every data instance is an input + label pair\n",
    "        inputs, labels = data\n",
    "        # inputs = data\n",
    "\n",
    "        # Zero your gradients for every batch!\n",
    "        optimizer.zero_grad()\n",
    "\n",
    "        # Make predictions for this batch\n",
    "        outputs = model(inputs)\n",
    "\n",
    "        # Compute the loss and its gradients\n",
    "        loss = loss_fn(outputs, labels)\n",
    "        loss.backward()\n",
    "\n",
    "        # Adjust learning weights\n",
    "        optimizer.step()\n",
    "\n",
    "        # Gather data and report\n",
    "        running_loss += loss.item()\n",
    "        if i % 1000 == 999:\n",
    "            last_loss = running_loss / 1000 # loss per batch\n",
    "            print('  batch {} loss: {}'.format(i + 1, last_loss))\n",
    "            tb_x = epoch_index * len(training_loader) + i + 1\n",
    "            tb_writer.add_scalar('Loss/train', last_loss, tb_x)\n",
    "            running_loss = 0.\n",
    "\n",
    "    return last_loss"
   ]
  },
  {
   "cell_type": "code",
   "execution_count": null,
   "metadata": {},
   "outputs": [
    {
     "name": "stdout",
     "output_type": "stream",
     "text": [
      "EPOCH 1:\n",
      "LOSS train 0.0 valid 0.9644201397895813\n",
      "EPOCH 2:\n",
      "LOSS train 0.0 valid 0.9339417815208435\n",
      "EPOCH 3:\n",
      "LOSS train 0.0 valid 0.9815530776977539\n",
      "EPOCH 4:\n",
      "LOSS train 0.0 valid 0.9200370907783508\n",
      "EPOCH 5:\n",
      "LOSS train 0.0 valid 1.0277581214904785\n"
     ]
    }
   ],
   "source": [
    "# Initializing in a separate cell so we can easily add more epochs to the same run\n",
    "import datetime\n",
    "from torch.utils.tensorboard import SummaryWriter\n",
    "\n",
    "timestamp = datetime.datetime.now().strftime('%Y%m%d_%H%M%S')\n",
    "writer    = SummaryWriter('runs/fashion_trainer_{}'.format(timestamp))\n",
    "epoch_number = 0\n",
    "\n",
    "num_epochs = 5\n",
    "\n",
    "best_vloss = 1_000_000.\n",
    "\n",
    "for epoch in range(num_epochs):\n",
    "    print('EPOCH {}:'.format(epoch_number + 1))\n",
    "\n",
    "    # Make sure gradient tracking is on, and do a pass over the data\n",
    "    model.train(True)\n",
    "    avg_loss = train_one_epoch(epoch_number, writer)\n",
    "\n",
    "\n",
    "    running_vloss = 0.0\n",
    "    # Set the model to evaluation mode, disabling dropout and using population\n",
    "    # statistics for batch normalization.\n",
    "    model.eval()\n",
    "\n",
    "    # Disable gradient computation and reduce memory consumption.\n",
    "    with torch.no_grad():\n",
    "        for i, vdata in enumerate(validation_loader):\n",
    "            vinputs, vlabels = vdata\n",
    "            voutputs = model(vinputs)\n",
    "            vloss = loss_fn(voutputs, vlabels)\n",
    "            running_vloss += vloss\n",
    "\n",
    "    avg_vloss = running_vloss / (i + 1)\n",
    "    print('LOSS train {} valid {}'.format(avg_loss, avg_vloss))\n",
    "\n",
    "    # Log the running loss averaged per batch\n",
    "    # for both training and validation\n",
    "    writer.add_scalars('Training vs. Validation Loss',\n",
    "                    { 'Training' : avg_loss, 'Validation' : avg_vloss },\n",
    "                    epoch_number + 1)\n",
    "    writer.flush()\n",
    "\n",
    "    # Track best performance, and save the model's state\n",
    "    if avg_vloss < best_vloss:\n",
    "        best_vloss = avg_vloss\n",
    "        model_path = 'model_{}_{}'.format(timestamp, epoch_number)\n",
    "        torch.save(model.state_dict(), model_path)\n",
    "\n",
    "    epoch_number += 1"
   ]
  },
  {
   "cell_type": "code",
   "execution_count": null,
   "metadata": {},
   "outputs": [],
   "source": []
  },
  {
   "cell_type": "code",
   "execution_count": null,
   "metadata": {},
   "outputs": [
    {
     "data": {
      "text/plain": [
       "0.0"
      ]
     },
     "execution_count": 6,
     "metadata": {},
     "output_type": "execute_result"
    }
   ],
   "source": [
    "def zero_center(*args, channels = [], copy = False):\n",
    "\n",
    "    \"\"\" Subtracts the mean of arg[0,channels] from the other arguments.\n",
    "    Assumes that the arguments are numpy arrays. The expected use case would\n",
    "    be zero_center(X_train, X_val, X_test).\n",
    "\n",
    "    channels: which channels to zero_center. The default will lead to all\n",
    "              channels being affected.\n",
    "    copy: if True, the arguments are unaffected. if False, the arguments\n",
    "          themselves may be modified\n",
    "    \"\"\"\n",
    "\n",
    "    assert len(args) > 0\n",
    "\n",
    "    # # treat channels properly\n",
    "    # if len(args(channels)) == 0:\n",
    "    #     channels = np.arange(args[0].shape[1])\n",
    "    # else:\n",
    "    #     channels = args(channels)\n",
    "\n",
    "    # compute mean of the first argument\n",
    "    mean = np.mean(args[0], axis = 0)\n",
    "\n",
    "    # copy arguments if requested\n",
    "    if copy:\n",
    "        X = [np.copy(arg) for arg in args]\n",
    "    else:\n",
    "        X = args\n",
    "\n",
    "    # iterate through arguments and channels\n",
    "    for x in X:\n",
    "        for chan in channels:\n",
    "\n",
    "            # use broadcasting to do the heavy lifting here\n",
    "            x[:,chan] -= mean[chan]\n",
    "\n",
    "    return X\n",
    "\n",
    "old_zeroed = zero_center(normalized, channels=[0], copy=True)\n",
    "\n",
    "new_zeroed = normalized - np.mean(normalized, axis=(0), keepdims=True)\n",
    "\n",
    "np.sum(np.abs(old_zeroed - new_zeroed))\n"
   ]
  },
  {
   "cell_type": "code",
   "execution_count": null,
   "metadata": {},
   "outputs": [
    {
     "name": "stdout",
     "output_type": "stream",
     "text": [
      "Min, max, sum, and average of old zeroed:  -0.21317049478121708 0.843927602873133 5.219543807583049e-11 1.1982423800695705e-18\n",
      "Min, max, sum, and average of new zeroed:  -0.21317049478121708 0.843927602873133 5.219543807583049e-11 1.1982423800695705e-18\n"
     ]
    }
   ],
   "source": [
    "print(\"Min, max, sum, and average of old zeroed: \", np.min(old_zeroed), np.max(old_zeroed), np.sum(old_zeroed), np.mean(old_zeroed))\n",
    "print(\"Min, max, sum, and average of new zeroed: \", np.min(new_zeroed), np.max(new_zeroed), np.sum(new_zeroed), np.mean(new_zeroed))"
   ]
  },
  {
   "cell_type": "code",
   "execution_count": null,
   "metadata": {},
   "outputs": [
    {
     "name": "stdout",
     "output_type": "stream",
     "text": [
      "Min, max, sum, and average of old standardized:  0.0 196.51170380302418 884233.9052355102 0.020299217291907947\n",
      "Min, max, sum, and average of new standardized:  0.0 196.51170380302418 884233.9052355102 0.020299217291907947\n"
     ]
    }
   ],
   "source": [
    "def standardize(*args, channels = [], copy = False, reg = 10**-6):\n",
    "\n",
    "    \"\"\" Normalizes each argument by the standard deviation of the pixels in \n",
    "    arg[0]. The expected use case would be standardize(X_train, X_val, X_test).\n",
    "\n",
    "    channels: which channels to zero_center. The default will lead to all\n",
    "              channels being affected.\n",
    "    copy: if True, the arguments are unaffected. if False, the arguments\n",
    "          themselves may be modified\n",
    "    reg: used to prevent divide by zero \n",
    "    \"\"\"\n",
    "\n",
    "    assert len(args) > 0\n",
    "\n",
    "    # treat channels properly\n",
    "    # if len(parg(channels)) == 0:\n",
    "    #     channels = np.arange(args[0].shape[1])\n",
    "    # else:\n",
    "    #     channels = parg(channels)\n",
    "\n",
    "    stds = np.std(args[0], axis = 0) + reg\n",
    "\n",
    "    # copy arguments if requested\n",
    "    if copy:\n",
    "        X = [np.copy(arg) for arg in args]\n",
    "    else:\n",
    "        X = args\n",
    "\n",
    "    # iterate through arguments and channels\n",
    "    for x in X:\n",
    "        for chan in channels:\n",
    "\n",
    "            # use broadcasting to do the heavy lifting here\n",
    "            x[:,chan] /= stds[chan]\n",
    "\n",
    "    return X\n",
    "\n",
    "\n",
    "old_standardized = standardize(normalized, channels=[0], copy=True)\n",
    "new_standardized = normalized / (np.std(normalized, axis=(0), keepdims=True) + for_noise_reduction)\n",
    "\n",
    "print(\"Min, max, sum, and average of old standardized: \", np.min(old_standardized), np.max(old_standardized), np.sum(old_standardized), np.mean(old_standardized))\n",
    "print(\"Min, max, sum, and average of new standardized: \", np.min(new_standardized), np.max(new_standardized), np.sum(new_standardized), np.mean(new_standardized))"
   ]
  }
 ],
 "metadata": {
  "kernelspec": {
   "display_name": "torch_venv",
   "language": "python",
   "name": "python3"
  },
  "language_info": {
   "codemirror_mode": {
    "name": "ipython",
    "version": 3
   },
   "file_extension": ".py",
   "mimetype": "text/x-python",
   "name": "python",
   "nbconvert_exporter": "python",
   "pygments_lexer": "ipython3",
   "version": "3.11.9"
  }
 },
 "nbformat": 4,
 "nbformat_minor": 2
}
