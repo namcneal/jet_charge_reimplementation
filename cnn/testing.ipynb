{
 "cells": [
  {
   "cell_type": "code",
   "execution_count": 2,
   "metadata": {},
   "outputs": [
    {
     "name": "stdout",
     "output_type": "stream",
     "text": [
      "The autoreload extension is already loaded. To reload it, use:\n",
      "  %reload_ext autoreload\n",
      "Number of jets in file:  10000\n"
     ]
    }
   ],
   "source": [
    "%load_ext autoreload\n",
    "%autoreload 2\n",
    "\n",
    "import sys\n",
    "sys.path.append('../data')\n",
    "from data_loading import *\n",
    "\n",
    "from Model import *\n",
    "\n",
    "fname = \"../data/up_down/100GEV-downquark-seed1.txt\"\n",
    "\n",
    "jets = jets_from_pythia_txt(fname)\n",
    "print(\"Number of jets in file: \", len(jets))"
   ]
  },
  {
   "cell_type": "code",
   "execution_count": 34,
   "metadata": {},
   "outputs": [],
   "source": [
    "import numpy as np\n",
    "import matplotlib.pyplot as plt\n",
    "from JetImages import JetImage\n",
    "\n",
    "\n",
    "total_num_jets = len(jets)\n",
    "jet_images     = np.empty((total_num_jets, 2, JetImage.pixels_per_dim, JetImage.pixels_per_dim))\n",
    "\n",
    "kappa = 0.2\n",
    "for i, jet in enumerate(jets):\n",
    "    image = JetImage.normalized_two_channel_image(jet, kappa)\n",
    "    jet_images[i,:,:,:] = image"
   ]
  },
  {
   "cell_type": "code",
   "execution_count": 49,
   "metadata": {},
   "outputs": [],
   "source": [
    "# Normalize the whole image by the sum of its pixels in each channel\n",
    "normalized_images = jet_images / np.sum(jet_images, axis=(1,2,3), keepdims=True)\n",
    "\n",
    "# Center each channel by the channel-average over all images\n",
    "zero_centered_images = normalized_images - np.mean(normalized_images, axis=(0), keepdims=True)\n",
    "\n",
    "# Standardize each channel by the channel-standard-deviation over all images\n",
    "for_noise_reduction = 1e-5\n",
    "standardized_images = zero_centered_images / (np.std(zero_centered_images, axis=(0), keepdims=True) + for_noise_reduction)"
   ]
  },
  {
   "cell_type": "code",
   "execution_count": 55,
   "metadata": {},
   "outputs": [
    {
     "data": {
      "text/plain": [
       "<matplotlib.image.AxesImage at 0x1d2059efe90>"
      ]
     },
     "execution_count": 55,
     "metadata": {},
     "output_type": "execute_result"
    },
    {
     "data": {
      "image/png": "[encoded data removed]",
      "text/plain": [
       "<Figure size 640x480 with 1 Axes>"
      ]
     },
     "metadata": {},
     "output_type": "display_data"
    }
   ],
   "source": [
    "# m = normalized_images\n",
    "# m = zero_centered_images\n",
    "m = standardized_images\n",
    "\n",
    "plt.imshow(np.mean(m, axis=0)[0,:,:])"
   ]
  },
  {
   "cell_type": "code",
   "execution_count": null,
   "metadata": {},
   "outputs": [],
   "source": []
  }
 ],
 "metadata": {
  "kernelspec": {
   "display_name": "torch_venv",
   "language": "python",
   "name": "python3"
  },
  "language_info": {
   "codemirror_mode": {
    "name": "ipython",
    "version": 3
   },
   "file_extension": ".py",
   "mimetype": "text/x-python",
   "name": "python",
   "nbconvert_exporter": "python",
   "pygments_lexer": "ipython3",
   "version": "3.11.9"
  }
 },
 "nbformat": 4,
 "nbformat_minor": 2
}
