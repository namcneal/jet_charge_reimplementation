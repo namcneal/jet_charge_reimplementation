{
 "cells": [
  {
   "cell_type": "code",
   "execution_count": 21,
   "metadata": {},
   "outputs": [
    {
     "name": "stdout",
     "output_type": "stream",
     "text": [
      "The autoreload extension is already loaded. To reload it, use:\n",
      "  %reload_ext autoreload\n",
      "Number of jets in file:  10000\n"
     ]
    }
   ],
   "source": [
    "%load_ext autoreload\n",
    "%autoreload 2\n",
    "\n",
    "import sys\n",
    "sys.path.append('../data')\n",
    "from data_loading import *\n",
    "\n",
    "from Model import *\n",
    "\n",
    "fname = \"../data/up_down/100GEV-downquark-seed1.txt\"\n",
    "\n",
    "jets = jets_from_pythia_txt(fname)\n",
    "print(\"Number of jets in file: \", len(jets))"
   ]
  },
  {
   "cell_type": "code",
   "execution_count": 25,
   "metadata": {},
   "outputs": [
    {
     "name": "stdout",
     "output_type": "stream",
     "text": [
      "-1.6934036537\n",
      "[-1.3190739  -1.30491637 -1.67354666 -1.36750099 -1.41400288 -1.78856034\n",
      " -1.6715068  -1.69215943 -1.7530369  -1.57908338 -1.80660624 -1.61700943\n",
      " -1.73712869 -1.74766275 -1.66844469 -1.66365173 -1.67172273 -1.71858522\n",
      " -1.69085833 -1.70219252 -1.69272442 -1.70647378]\n",
      "[-0.8  -0.75 -0.7  -0.65 -0.6  -0.55 -0.5  -0.45 -0.4  -0.35 -0.3  -0.25\n",
      " -0.2  -0.15 -0.1  -0.05  0.    0.05  0.1   0.15  0.2   0.25  0.3   0.35\n",
      "  0.4   0.45  0.5   0.55  0.6   0.65  0.7   0.75  0.8 ]\n",
      "[-2.49340365 -2.44340365 -2.39340365 -2.34340365 -2.29340365 -2.24340365\n",
      " -2.19340365 -2.14340365 -2.09340365 -2.04340365 -1.99340365 -1.94340365\n",
      " -1.89340365 -1.84340365 -1.79340365 -1.74340365 -1.69340365 -1.64340365\n",
      " -1.59340365 -1.54340365 -1.49340365 -1.44340365 -1.39340365 -1.34340365\n",
      " -1.29340365 -1.24340365 -1.19340365 -1.14340365 -1.09340365 -1.04340365\n",
      " -0.99340365 -0.94340365 -0.89340365]\n"
     ]
    },
    {
     "data": {
      "text/plain": [
       "[(24, 14),\n",
       " (24, 16),\n",
       " (17, 9),\n",
       " (23, 15),\n",
       " (22, 18),\n",
       " (15, 11),\n",
       " (17, 12),\n",
       " (17, 12),\n",
       " (15, 21),\n",
       " (19, 18),\n",
       " (14, 18),\n",
       " (18, 17),\n",
       " (16, 17),\n",
       " (15, 17),\n",
       " (17, 17),\n",
       " (17, 17),\n",
       " (17, 17),\n",
       " (16, 17),\n",
       " (17, 17),\n",
       " (16, 17),\n",
       " (17, 17),\n",
       " (16, 16)]"
      ]
     },
     "execution_count": 25,
     "metadata": {},
     "output_type": "execute_result"
    }
   ],
   "source": [
    "from JetImages import JetImage\n",
    "\n",
    "image = JetImage(jets[0])\n",
    "\n",
    "list(image.sort_particles_into_bins())"
   ]
  },
  {
   "cell_type": "code",
   "execution_count": null,
   "metadata": {},
   "outputs": [],
   "source": []
  }
 ],
 "metadata": {
  "kernelspec": {
   "display_name": "torch_venv",
   "language": "python",
   "name": "python3"
  },
  "language_info": {
   "codemirror_mode": {
    "name": "ipython",
    "version": 3
   },
   "file_extension": ".py",
   "mimetype": "text/x-python",
   "name": "python",
   "nbconvert_exporter": "python",
   "pygments_lexer": "ipython3",
   "version": "3.11.9"
  }
 },
 "nbformat": 4,
 "nbformat_minor": 2
}
