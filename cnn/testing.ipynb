{
 "cells": [
  {
   "cell_type": "code",
   "execution_count": 37,
   "metadata": {},
   "outputs": [
    {
     "name": "stdout",
     "output_type": "stream",
     "text": [
      "Number of jets in file:  10000\n"
     ]
    }
   ],
   "source": [
    "%autoreload 2\n",
    "\n",
    "sys.path.append('../data')\n",
    "from data_loading import *\n",
    "\n",
    "from Model import *\n",
    "\n",
    "fname = \"../data/up_down/100GEV-downquark-seed1.txt\"\n",
    "\n",
    "jets = jets_from_pythia_txt(fname)\n",
    "print(\"Number of jets in file: \", len(jets))"
   ]
  },
  {
   "cell_type": "code",
   "execution_count": 41,
   "metadata": {},
   "outputs": [],
   "source": [
    "from JetImages import sort_particles_into_bins\n",
    "\n",
    "eta_bins, phi_bins, particle_idxx = sort_particles_into_bins(jets[0])"
   ]
  },
  {
   "cell_type": "code",
   "execution_count": 46,
   "metadata": {},
   "outputs": [
    {
     "data": {
      "text/plain": [
       "(0.02400000000000002, 0.02400000000000002)"
      ]
     },
     "execution_count": 46,
     "metadata": {},
     "output_type": "execute_result"
    }
   ],
   "source": [
    "phi_bins[1] - phi_bins[0], eta_bins[1] - eta_bins[0]"
   ]
  },
  {
   "cell_type": "code",
   "execution_count": null,
   "metadata": {},
   "outputs": [],
   "source": []
  }
 ],
 "metadata": {
  "kernelspec": {
   "display_name": "torch_venv",
   "language": "python",
   "name": "python3"
  },
  "language_info": {
   "codemirror_mode": {
    "name": "ipython",
    "version": 3
   },
   "file_extension": ".py",
   "mimetype": "text/x-python",
   "name": "python",
   "nbconvert_exporter": "python",
   "pygments_lexer": "ipython3",
   "version": "3.10.12"
  }
 },
 "nbformat": 4,
 "nbformat_minor": 2
}
