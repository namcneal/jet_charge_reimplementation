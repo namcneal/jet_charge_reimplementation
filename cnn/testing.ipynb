{
 "cells": [
  {
   "cell_type": "code",
   "execution_count": 53,
   "metadata": {},
   "outputs": [
    {
     "name": "stdout",
     "output_type": "stream",
     "text": [
      "Number of jets in file:  10000\n"
     ]
    }
   ],
   "source": [
    "%autoreload 2\n",
    "\n",
    "sys.path.append('../data')\n",
    "from data_loading import *\n",
    "\n",
    "from Model import *\n",
    "\n",
    "fname = \"../data/up_down/100GEV-downquark-seed1.txt\"\n",
    "\n",
    "jets = jets_from_pythia_txt(fname)\n",
    "print(\"Number of jets in file: \", len(jets))"
   ]
  }
 ],
 "metadata": {
  "kernelspec": {
   "display_name": "torch_venv",
   "language": "python",
   "name": "python3"
  },
  "language_info": {
   "codemirror_mode": {
    "name": "ipython",
    "version": 3
   },
   "file_extension": ".py",
   "mimetype": "text/x-python",
   "name": "python",
   "nbconvert_exporter": "python",
   "pygments_lexer": "ipython3",
   "version": "3.10.12"
  }
 },
 "nbformat": 4,
 "nbformat_minor": 2
}
