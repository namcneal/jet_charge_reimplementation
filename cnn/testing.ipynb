{
 "cells": [
  {
   "cell_type": "code",
   "execution_count": 1,
   "metadata": {},
   "outputs": [
    {
     "name": "stdout",
     "output_type": "stream",
     "text": [
      "\n",
      "Loading jets from files. Currently on seed: 1..."
     ]
    }
   ],
   "source": [
    "%load_ext autoreload\n",
    "%autoreload 2\n",
    "\n",
    "import numpy as np\n",
    "import sys\n",
    "\n",
    "sys.path.append('../data')\n",
    "from data_loading import jets_from_pythia_txt\n",
    "from JetImages import JetImage\n",
    "\n",
    "kappa = 0.2\n",
    "jet_images : np.ndarray = np.empty((0, 2, JetImage.pixels_per_dim, JetImage.pixels_per_dim), dtype=np.float64)\n",
    "\n",
    "print(\"\\nLoading jets from files. Currently on seed: \", end='')\n",
    "for seed in range(1,5):\n",
    "    if (seed-1) % 5 == 0:\n",
    "        print(\"{}...\".format(seed), end='')\n",
    "\n",
    "    fname = \"../data/up_down/1000GEV-downquark-seed{}.txt\".format(seed)\n",
    "\n",
    "    new_images = np.stack([JetImage.two_channel_image(jet, kappa) for jet in jets_from_pythia_txt(fname)])\n",
    "                      \n",
    "    jet_images = np.concatenate((jet_images, new_images), axis=0)\n"
   ]
  },
  {
   "cell_type": "code",
   "execution_count": 65,
   "metadata": {},
   "outputs": [],
   "source": [
    "# Normalize the whole image by the sum of its pixels in each channel\n",
    "first_channel = jet_images[:,0,:,:]\n",
    "num_images = first_channel.shape[0]\n",
    "first_channel = first_channel.reshape(num_images,1,33,33)\n",
    "\n",
    "normalized = first_channel /  np.sum(first_channel, axis=(2,3), keepdims=True)\n",
    "\n",
    "# Zero-center each channel's pixels by the corresponding average over all images\n",
    "zero_centered = normalized - np.mean(normalized, axis=(0), keepdims=True)\n",
    "\n",
    "# Standardize each channel by the channel-standard-deviation over all images\n",
    "for_noise_reduction = 1e-5\n",
    "standardized = zero_centered /  (np.std(normalized, axis=(0), keepdims=True) + for_noise_reduction)"
   ]
  },
  {
   "cell_type": "code",
   "execution_count": 76,
   "metadata": {},
   "outputs": [
    {
     "data": {
      "text/plain": [
       "<matplotlib.colorbar.Colorbar at 0x25032480150>"
      ]
     },
     "execution_count": 76,
     "metadata": {},
     "output_type": "execute_result"
    },
    {
     "data": {
      "image/png": "[encoded data removed]",
      "text/plain": [
       "<Figure size 640x480 with 2 Axes>"
      ]
     },
     "metadata": {},
     "output_type": "display_data"
    }
   ],
   "source": [
    "# m = normalized_images\n",
    "# m = zero_centered_images\n",
    "# m = standardized_images\n",
    "\n",
    "# to_plot = np.mean(standardized, axis=0)[0,:,:]\n",
    "to_plot = standardized[5,0,:,:]\n",
    "\n",
    "import matplotlib.pyplot as plt\n",
    "plt.imshow(to_plot, cmap='seismic')\n",
    "plt.colorbar()"
   ]
  },
  {
   "cell_type": "code",
   "execution_count": 4,
   "metadata": {},
   "outputs": [],
   "source": [
    "import numpy as np\n",
    "\n",
    "jet_images = None\n",
    "jet_images = np.load(\"../data/up_down/100GEV-downquark-jet-images.npy\")"
   ]
  },
  {
   "cell_type": "code",
   "execution_count": 19,
   "metadata": {},
   "outputs": [
    {
     "name": "stdout",
     "output_type": "stream",
     "text": [
      "(1, 1, 33, 33)\n"
     ]
    }
   ],
   "source": [
    "print(means.shape)"
   ]
  },
  {
   "cell_type": "code",
   "execution_count": 29,
   "metadata": {},
   "outputs": [],
   "source": [
    "def zero_center(*args, channels = [], copy = False):\n",
    "\n",
    "    \"\"\" Subtracts the mean of arg[0,channels] from the other arguments.\n",
    "    Assumes that the arguments are numpy arrays. The expected use case would\n",
    "    be zero_center(X_train, X_val, X_test).\n",
    "\n",
    "    channels: which channels to zero_center. The default will lead to all\n",
    "              channels being affected.\n",
    "    copy: if True, the arguments are unaffected. if False, the arguments\n",
    "          themselves may be modified\n",
    "    \"\"\"\n",
    "\n",
    "    assert len(args) > 0\n",
    "\n",
    "    # # treat channels properly\n",
    "    # if len(args(channels)) == 0:\n",
    "    #     channels = np.arange(args[0].shape[1])\n",
    "    # else:\n",
    "    #     channels = args(channels)\n",
    "\n",
    "    # compute mean of the first argument\n",
    "    mean = np.mean(args[0], axis = 0)\n",
    "\n",
    "    # copy arguments if requested\n",
    "    if copy:\n",
    "        X = [np.copy(arg) for arg in args]\n",
    "    else:\n",
    "        X = args\n",
    "\n",
    "    # iterate through arguments and channels\n",
    "    for x in X:\n",
    "        for chan in channels:\n",
    "\n",
    "            # use broadcasting to do the heavy lifting here\n",
    "            x[:,chan] -= mean[chan]\n",
    "\n",
    "    return X\n",
    "\n",
    "old_zeroed = zero_center(normalized, channels=[0], copy=True)\n",
    "\n",
    "new_zeroed = normalized - np.mean(normalized, axis=(0), keepdims=True)\n",
    "\n",
    "np.sum(np.abs(old_zeroed - new_zeroed))\n"
   ]
  },
  {
   "cell_type": "code",
   "execution_count": 59,
   "metadata": {},
   "outputs": [
    {
     "name": "stdout",
     "output_type": "stream",
     "text": [
      "Min, max, sum, and average of old zeroed:  -0.21317049478121708 0.843927602873133 5.219543807583049e-11 1.1982423800695705e-18\n",
      "Min, max, sum, and average of new zeroed:  -0.21317049478121708 0.843927602873133 5.219543807583049e-11 1.1982423800695705e-18\n"
     ]
    }
   ],
   "source": [
    "print(\"Min, max, sum, and average of old zeroed: \", np.min(old_zeroed), np.max(old_zeroed), np.sum(old_zeroed), np.mean(old_zeroed))\n",
    "print(\"Min, max, sum, and average of new zeroed: \", np.min(new_zeroed), np.max(new_zeroed), np.sum(new_zeroed), np.mean(new_zeroed))"
   ]
  },
  {
   "cell_type": "code",
   "execution_count": 44,
   "metadata": {},
   "outputs": [
    {
     "data": {
      "text/plain": [
       "34188.42802278593"
      ]
     },
     "execution_count": 44,
     "metadata": {},
     "output_type": "execute_result"
    }
   ],
   "source": [
    "def standardize(*args, channels = [], copy = False, reg = 10**-6):\n",
    "\n",
    "    \"\"\" Normalizes each argument by the standard deviation of the pixels in \n",
    "    arg[0]. The expected use case would be standardize(X_train, X_val, X_test).\n",
    "\n",
    "    channels: which channels to zero_center. The default will lead to all\n",
    "              channels being affected.\n",
    "    copy: if True, the arguments are unaffected. if False, the arguments\n",
    "          themselves may be modified\n",
    "    reg: used to prevent divide by zero \n",
    "    \"\"\"\n",
    "\n",
    "    assert len(args) > 0\n",
    "\n",
    "    # treat channels properly\n",
    "    # if len(parg(channels)) == 0:\n",
    "    #     channels = np.arange(args[0].shape[1])\n",
    "    # else:\n",
    "    #     channels = parg(channels)\n",
    "\n",
    "    stds = np.std(args[0], axis = 0) + reg\n",
    "\n",
    "    # copy arguments if requested\n",
    "    if copy:\n",
    "        X = [np.copy(arg) for arg in args]\n",
    "    else:\n",
    "        X = args\n",
    "\n",
    "    # iterate through arguments and channels\n",
    "    for x in X:\n",
    "        for chan in channels:\n",
    "\n",
    "            # use broadcasting to do the heavy lifting here\n",
    "            x[:,chan] /= stds[chan]\n",
    "\n",
    "    return X\n",
    "\n",
    "\n",
    "old_standardized = standardize(normalized, channels=[0], copy=True)\n",
    "new_standardized = normalized / (np.std(normalized, axis=(0), keepdims=True) + for_noise_reduction)\n",
    "\n",
    "np.sum(np.abs(old_standardized - new_standardized))"
   ]
  },
  {
   "cell_type": "code",
   "execution_count": 60,
   "metadata": {},
   "outputs": [
    {
     "data": {
      "text/plain": [
       "1e-05"
      ]
     },
     "execution_count": 60,
     "metadata": {},
     "output_type": "execute_result"
    }
   ],
   "source": [
    "for_noise_reduction"
   ]
  },
  {
   "cell_type": "code",
   "execution_count": 55,
   "metadata": {},
   "outputs": [
    {
     "data": {
      "text/plain": [
       "5.219543807583049e-11"
      ]
     },
     "execution_count": 55,
     "metadata": {},
     "output_type": "execute_result"
    }
   ],
   "source": [
    "np.sum(old_zeroed)"
   ]
  },
  {
   "cell_type": "code",
   "execution_count": null,
   "metadata": {},
   "outputs": [],
   "source": []
  }
 ],
 "metadata": {
  "kernelspec": {
   "display_name": "torch_venv",
   "language": "python",
   "name": "python3"
  },
  "language_info": {
   "codemirror_mode": {
    "name": "ipython",
    "version": 3
   },
   "file_extension": ".py",
   "mimetype": "text/x-python",
   "name": "python",
   "nbconvert_exporter": "python",
   "pygments_lexer": "ipython3",
   "version": "3.11.9"
  }
 },
 "nbformat": 4,
 "nbformat_minor": 2
}
